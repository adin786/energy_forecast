{
 "cells": [
  {
   "cell_type": "markdown",
   "metadata": {},
   "source": [
    "# 03 - Forecasting baseline"
   ]
  },
  {
   "cell_type": "code",
   "execution_count": 1,
   "metadata": {},
   "outputs": [],
   "source": [
    "%load_ext autoreload\n",
    "%autoreload 2"
   ]
  },
  {
   "cell_type": "code",
   "execution_count": 14,
   "metadata": {},
   "outputs": [],
   "source": [
    "import energy_forecast\n",
    "from energy_forecast.utils import repo_root\n",
    "from energy_forecast.preprocessing import load_and_set_types\n",
    "import pandas as pd\n",
    "from pandas import DataFrame\n",
    "from pathlib import Path\n",
    "\n",
    "from sktime.transformations.series.detrend import STLTransformer\n"
   ]
  },
  {
   "cell_type": "code",
   "execution_count": 8,
   "metadata": {},
   "outputs": [],
   "source": [
    "REPO_ROOT = Path(repo_root())\n",
    "DATA_PROCESSED = REPO_ROOT / 'data' / 'processed'\n",
    "\n",
    "Y_TRAIN_PATH = DATA_PROCESSED / 'y_train.csv'\n",
    "Y_TEST_PATH = DATA_PROCESSED / 'y_test.csv'\n",
    "X_TRAIN_PATH = DATA_PROCESSED / 'x_train.csv'\n",
    "X_TEST_PATH = DATA_PROCESSED / 'x_test.csv'"
   ]
  },
  {
   "cell_type": "code",
   "execution_count": 13,
   "metadata": {},
   "outputs": [
    {
     "name": "stderr",
     "output_type": "stream",
     "text": [
      "2022-10-18 23:57:11.016 | DEBUG    | energy_forecast.preprocessing:load_and_set_types:8 - Loading csv and setting types\n",
      "2022-10-18 23:57:11.025 | DEBUG    | energy_forecast.preprocessing:load_and_set_types:8 - Loading csv and setting types\n"
     ]
    },
    {
     "data": {
      "text/plain": [
       "(193, 1)"
      ]
     },
     "execution_count": 13,
     "metadata": {},
     "output_type": "execute_result"
    }
   ],
   "source": [
    "y_train = load_and_set_types(Y_TRAIN_PATH)\n",
    "x_train = load_and_set_types(X_TRAIN_PATH)\n",
    "\n",
    "\n",
    "y_train.shape"
   ]
  },
  {
   "cell_type": "markdown",
   "metadata": {},
   "source": [
    "# Univariate forecasting"
   ]
  },
  {
   "cell_type": "code",
   "execution_count": 16,
   "metadata": {},
   "outputs": [],
   "source": [
    "stl = STLTransformer(sp=12)\n",
    "out = stl.fit_transform(y_train)"
   ]
  },
  {
   "cell_type": "code",
   "execution_count": 19,
   "metadata": {},
   "outputs": [
    {
     "data": {
      "text/plain": [
       "pandas.core.frame.DataFrame"
      ]
     },
     "execution_count": 19,
     "metadata": {},
     "output_type": "execute_result"
    }
   ],
   "source": [
    "type(out)"
   ]
  },
  {
   "cell_type": "code",
   "execution_count": null,
   "metadata": {},
   "outputs": [],
   "source": []
  }
 ],
 "metadata": {
  "kernelspec": {
   "display_name": "Python 3.9.13 64-bit",
   "language": "python",
   "name": "python3"
  },
  "language_info": {
   "codemirror_mode": {
    "name": "ipython",
    "version": 3
   },
   "file_extension": ".py",
   "mimetype": "text/x-python",
   "name": "python",
   "nbconvert_exporter": "python",
   "pygments_lexer": "ipython3",
   "version": "3.9.13"
  },
  "orig_nbformat": 4,
  "vscode": {
   "interpreter": {
    "hash": "949777d72b0d2535278d3dc13498b2535136f6dfe0678499012e853ee9abcab1"
   }
  }
 },
 "nbformat": 4,
 "nbformat_minor": 2
}
