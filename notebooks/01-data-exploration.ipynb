{
 "cells": [
  {
   "cell_type": "markdown",
   "id": "8485e5c4-d5a0-4dec-bbd3-b1a8e05cb009",
   "metadata": {},
   "source": [
    "# 01 - Data Exploration\n",
    "\n",
    "This project will analyse UK energy consumption data published by from data.gov.uk\n",
    "\n",
    "## Prerequisites"
   ]
  },
  {
   "cell_type": "code",
   "execution_count": 1,
   "id": "ad7f5368-ca30-4090-9b13-3656d628dfcd",
   "metadata": {},
   "outputs": [],
   "source": [
    "%load_ext autoreload\n",
    "%autoreload 2"
   ]
  },
  {
   "cell_type": "code",
   "execution_count": 9,
   "id": "350d82e6-2f98-4930-b4f8-b26b9945892f",
   "metadata": {},
   "outputs": [
    {
     "ename": "ModuleNotFoundError",
     "evalue": "No module named 'energy_forecast'",
     "output_type": "error",
     "traceback": [
      "\u001b[0;31m---------------------------------------------------------------------------\u001b[0m",
      "\u001b[0;31mModuleNotFoundError\u001b[0m                       Traceback (most recent call last)",
      "Cell \u001b[0;32mIn [9], line 1\u001b[0m\n\u001b[0;32m----> 1\u001b[0m \u001b[38;5;28;01mimport\u001b[39;00m \u001b[38;5;21;01menergy_forecast\u001b[39;00m\n",
      "\u001b[0;31mModuleNotFoundError\u001b[0m: No module named 'energy_forecast'"
     ]
    }
   ],
   "source": [
    "import energy_forecast"
   ]
  },
  {
   "cell_type": "code",
   "execution_count": 2,
   "id": "ddd7220c-0a7f-4c60-90c6-ddfd8d63d474",
   "metadata": {
    "id": "JpCt-rDjwHr_"
   },
   "outputs": [],
   "source": [
    "import requests, zipfile, io\n",
    "import pandas as pd\n",
    "import numpy as np\n",
    "import matplotlib.pyplot as plt\n",
    "from pathlib import Path\n",
    "import warnings\n",
    "from statsmodels.graphics.tsaplots import plot_acf, plot_pacf,month_plot,quarter_plot"
   ]
  },
  {
   "cell_type": "code",
   "execution_count": 8,
   "id": "46866eea-a25c-470c-849f-58fea1b67a56",
   "metadata": {},
   "outputs": [
    {
     "data": {
      "text/plain": [
       "PosixPath('/workspaces/energy_forecast')"
      ]
     },
     "execution_count": 8,
     "metadata": {},
     "output_type": "execute_result"
    }
   ],
   "source": [
    "REPO_ROOT = Path.cwd().parent\n",
    "REPO_ROOT"
   ]
  },
  {
   "cell_type": "code",
   "execution_count": 3,
   "id": "40ce1396-644f-4e53-a8e3-cc162a53e4e6",
   "metadata": {},
   "outputs": [],
   "source": [
    "URL2 = 'https://assets.publishing.service.gov.uk/government/uploads/system/uploads/attachment_data/file/1107641/ET_1.2_SEP_22.xlsx'"
   ]
  },
  {
   "cell_type": "code",
   "execution_count": 4,
   "id": "5c872b55-2c98-4501-8cdc-3efa792c284c",
   "metadata": {},
   "outputs": [],
   "source": [
    "def get_file(url, dest_path):\n",
    "    r = requests.get(url, allow_redirects=True)\n",
    "    if not r.ok: \n",
    "         raise ValueError('bad response')\n",
    "    \n",
    "    dest_path = Path.cwd() / Path(url).name \n",
    "    with dest_path.open('wb') as f:\n",
    "        f.write(r.content)\n",
    "\n",
    "# Download Energy Trends data\n",
    "dest_path = \n",
    "get_file(URL2)"
   ]
  },
  {
   "cell_type": "code",
   "execution_count": 5,
   "id": "f5f621db-9484-4395-93bb-33d7a1c57207",
   "metadata": {},
   "outputs": [
    {
     "name": "stdout",
     "output_type": "stream",
     "text": [
      "01-data-exploration.ipynb  ET_1.2_SEP_22.xlsx  colab_energy_analysis.ipynb\n"
     ]
    }
   ],
   "source": [
    "ls"
   ]
  },
  {
   "cell_type": "code",
   "execution_count": null,
   "id": "7a07e77b-a29a-40e8-8c48-c589f87ee71d",
   "metadata": {},
   "outputs": [],
   "source": []
  },
  {
   "cell_type": "code",
   "execution_count": null,
   "id": "07d3e66c-ee74-4ff1-9084-89e3a979ac07",
   "metadata": {
    "colab": {
     "base_uri": "https://localhost:8080/"
    },
    "id": "C897PZfTQLvh",
    "outputId": "528a3b22-ad88-42d6-f8d8-0796c013e17b"
   },
   "outputs": [
    {
     "data": {
      "text/plain": [
       "['Cover Sheet',\n",
       " 'Contents',\n",
       " 'Notes',\n",
       " 'Commentary',\n",
       " 'Main table - monthly',\n",
       " 'Main table - quarterly',\n",
       " 'Annual',\n",
       " 'Quarter',\n",
       " 'Month',\n",
       " 'calculation_hide']"
      ]
     },
     "execution_count": 5,
     "metadata": {},
     "output_type": "execute_result"
    }
   ],
   "source": [
    "# Load the Excel sheets\n",
    "# Suppress\n",
    "with warnings.catch_warnings():\n",
    "    warnings.simplefilter(\"ignore\")\n",
    "    sheets = pd.read_excel(\n",
    "        Path(URL2).name,\n",
    "        sheet_name=None\n",
    "    )\n",
    "\n",
    "list(sheets.keys())"
   ]
  }
 ],
 "metadata": {
  "kernelspec": {
   "display_name": "Python 3 (ipykernel)",
   "language": "python",
   "name": "python3"
  },
  "language_info": {
   "codemirror_mode": {
    "name": "ipython",
    "version": 3
   },
   "file_extension": ".py",
   "mimetype": "text/x-python",
   "name": "python",
   "nbconvert_exporter": "python",
   "pygments_lexer": "ipython3",
   "version": "3.9.13"
  }
 },
 "nbformat": 4,
 "nbformat_minor": 5
}
